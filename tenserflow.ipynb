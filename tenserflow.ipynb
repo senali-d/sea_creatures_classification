{
 "cells": [
  {
   "cell_type": "code",
   "execution_count": 107,
   "metadata": {},
   "outputs": [
    {
     "data": {
      "application/javascript": "IPython.notebook.set_autosave_interval(0)"
     },
     "metadata": {},
     "output_type": "display_data"
    },
    {
     "name": "stdout",
     "output_type": "stream",
     "text": [
      "Autosave disabled\n"
     ]
    }
   ],
   "source": [
    "%autosave 0"
   ]
  },
  {
   "cell_type": "code",
   "execution_count": null,
   "metadata": {},
   "outputs": [],
   "source": [
    "import tensorflow as tf\n",
    "from tensorflow import keras\n",
    "\n",
    "import numpy as np\n",
    "\n",
    "tf.__version__"
   ]
  },
  {
   "cell_type": "code",
   "execution_count": 111,
   "metadata": {},
   "outputs": [],
   "source": [
    "model = keras.models.load_model('xception_v2_10_0.852.keras')"
   ]
  },
  {
   "cell_type": "code",
   "execution_count": 112,
   "metadata": {},
   "outputs": [],
   "source": [
    "path = './data/Clams'\n",
    "name = '10711395_a16c4c2901_o.jpg'\n",
    "fullname = f'{path}/{name}'"
   ]
  },
  {
   "cell_type": "code",
   "execution_count": 113,
   "metadata": {},
   "outputs": [],
   "source": [
    "from tensorflow.keras.preprocessing.image import load_img\n",
    "from tensorflow.keras.applications.xception import preprocess_input"
   ]
  },
  {
   "cell_type": "code",
   "execution_count": 128,
   "metadata": {},
   "outputs": [],
   "source": [
    "img = load_img(fullname, target_size=(299, 299))\n",
    "\n",
    "x = np.array(img)\n",
    "X = np.array([x])\n",
    "\n",
    "X = preprocess_input(X)"
   ]
  },
  {
   "cell_type": "code",
   "execution_count": 118,
   "metadata": {},
   "outputs": [
    {
     "name": "stdout",
     "output_type": "stream",
     "text": [
      "\u001b[1m1/1\u001b[0m \u001b[32m━━━━━━━━━━━━━━━━━━━━\u001b[0m\u001b[37m\u001b[0m \u001b[1m1s\u001b[0m 859ms/step\n"
     ]
    }
   ],
   "source": [
    "pred = model.predict(X)"
   ]
  },
  {
   "cell_type": "code",
   "execution_count": 119,
   "metadata": {},
   "outputs": [],
   "source": [
    "classes = [\n",
    "    'Clams',\n",
    "    'Corals',\n",
    "    'Crabs',\n",
    "    'Dolphin',\n",
    "    'Eel',\n",
    "    'Fish',\n",
    "    'Jelly Fish',\n",
    "    'Lobster',\n",
    "    'Nudibranchs',\n",
    "    'Octopus',\n",
    "    'Otter',\n",
    "    'Penguin',\n",
    "    'Puffers',\n",
    "    'Seahorse',\n",
    "    'Sea Rays',\n",
    "    'Sea Urchins',\n",
    "    'Seal',\n",
    "    'Sharks',\n",
    "    'Shrimp',\n",
    "    'Squid',\n",
    "    'Starfish',\n",
    "    'Turtle_Tortoise',\n",
    "    'Whale'\n",
    "]"
   ]
  },
  {
   "cell_type": "code",
   "execution_count": 120,
   "metadata": {},
   "outputs": [
    {
     "data": {
      "text/plain": [
       "{'Clams': np.float32(5.2768817),\n",
       " 'Corals': np.float32(2.831375),\n",
       " 'Crabs': np.float32(-5.9667444),\n",
       " 'Dolphin': np.float32(-4.4443774),\n",
       " 'Eel': np.float32(-1.3178099),\n",
       " 'Fish': np.float32(-1.4545499),\n",
       " 'Jelly Fish': np.float32(-2.766472),\n",
       " 'Lobster': np.float32(1.823356),\n",
       " 'Nudibranchs': np.float32(-1.7834287),\n",
       " 'Octopus': np.float32(0.093307145),\n",
       " 'Otter': np.float32(-4.178796),\n",
       " 'Penguin': np.float32(-4.4255123),\n",
       " 'Puffers': np.float32(-0.94791573),\n",
       " 'Seahorse': np.float32(3.0982525),\n",
       " 'Sea Rays': np.float32(-0.5382905),\n",
       " 'Sea Urchins': np.float32(-3.9834547),\n",
       " 'Seal': np.float32(-5.383499),\n",
       " 'Sharks': np.float32(-2.9746158),\n",
       " 'Shrimp': np.float32(-1.5158027),\n",
       " 'Squid': np.float32(-0.4403369),\n",
       " 'Starfish': np.float32(-4.7617145),\n",
       " 'Turtle_Tortoise': np.float32(-3.1611476),\n",
       " 'Whale': np.float32(-6.208831)}"
      ]
     },
     "execution_count": 120,
     "metadata": {},
     "output_type": "execute_result"
    }
   ],
   "source": [
    "dict(zip(classes, pred[0]))"
   ]
  },
  {
   "cell_type": "markdown",
   "metadata": {},
   "source": [
    "## Convert Keras to TF-Lite"
   ]
  },
  {
   "cell_type": "code",
   "execution_count": 146,
   "metadata": {},
   "outputs": [
    {
     "name": "stdout",
     "output_type": "stream",
     "text": [
      "INFO:tensorflow:Assets written to: /var/folders/0v/knpldzds1fd3r2ffhv6brsrh0000gn/T/tmpc61kyl68/assets\n"
     ]
    },
    {
     "name": "stderr",
     "output_type": "stream",
     "text": [
      "INFO:tensorflow:Assets written to: /var/folders/0v/knpldzds1fd3r2ffhv6brsrh0000gn/T/tmpc61kyl68/assets\n"
     ]
    },
    {
     "name": "stdout",
     "output_type": "stream",
     "text": [
      "Saved artifact at '/var/folders/0v/knpldzds1fd3r2ffhv6brsrh0000gn/T/tmpc61kyl68'. The following endpoints are available:\n",
      "\n",
      "* Endpoint 'serve'\n",
      "  args_0 (POSITIONAL_ONLY): TensorSpec(shape=(None, 299, 299, 3), dtype=tf.float32, name='input_layer_3')\n",
      "Output Type:\n",
      "  TensorSpec(shape=(None, 23), dtype=tf.float32, name=None)\n",
      "Captures:\n",
      "  6077657552: TensorSpec(shape=(), dtype=tf.resource, name=None)\n",
      "  6077656016: TensorSpec(shape=(), dtype=tf.resource, name=None)\n",
      "  6077655824: TensorSpec(shape=(), dtype=tf.resource, name=None)\n",
      "  6077656208: TensorSpec(shape=(), dtype=tf.resource, name=None)\n",
      "  6077656400: TensorSpec(shape=(), dtype=tf.resource, name=None)\n",
      "  6077655632: TensorSpec(shape=(), dtype=tf.resource, name=None)\n",
      "  6077654480: TensorSpec(shape=(), dtype=tf.resource, name=None)\n",
      "  6077654288: TensorSpec(shape=(), dtype=tf.resource, name=None)\n",
      "  6077654672: TensorSpec(shape=(), dtype=tf.resource, name=None)\n",
      "  6077653904: TensorSpec(shape=(), dtype=tf.resource, name=None)\n",
      "  6078005520: TensorSpec(shape=(), dtype=tf.resource, name=None)\n",
      "  6078006096: TensorSpec(shape=(), dtype=tf.resource, name=None)\n",
      "  6078007440: TensorSpec(shape=(), dtype=tf.resource, name=None)\n",
      "  6078007632: TensorSpec(shape=(), dtype=tf.resource, name=None)\n",
      "  6078005904: TensorSpec(shape=(), dtype=tf.resource, name=None)\n",
      "  6078007056: TensorSpec(shape=(), dtype=tf.resource, name=None)\n",
      "  6078008016: TensorSpec(shape=(), dtype=tf.resource, name=None)\n",
      "  6078008400: TensorSpec(shape=(), dtype=tf.resource, name=None)\n",
      "  6078010320: TensorSpec(shape=(), dtype=tf.resource, name=None)\n",
      "  6078009744: TensorSpec(shape=(), dtype=tf.resource, name=None)\n",
      "  6078009936: TensorSpec(shape=(), dtype=tf.resource, name=None)\n",
      "  6078006864: TensorSpec(shape=(), dtype=tf.resource, name=None)\n",
      "  6078009360: TensorSpec(shape=(), dtype=tf.resource, name=None)\n",
      "  6078011664: TensorSpec(shape=(), dtype=tf.resource, name=None)\n",
      "  6078011856: TensorSpec(shape=(), dtype=tf.resource, name=None)\n",
      "  6078011472: TensorSpec(shape=(), dtype=tf.resource, name=None)\n",
      "  6078010704: TensorSpec(shape=(), dtype=tf.resource, name=None)\n",
      "  6078012240: TensorSpec(shape=(), dtype=tf.resource, name=None)\n",
      "  6078012624: TensorSpec(shape=(), dtype=tf.resource, name=None)\n",
      "  6078013968: TensorSpec(shape=(), dtype=tf.resource, name=None)\n",
      "  6078014160: TensorSpec(shape=(), dtype=tf.resource, name=None)\n",
      "  6078009168: TensorSpec(shape=(), dtype=tf.resource, name=None)\n",
      "  6078013584: TensorSpec(shape=(), dtype=tf.resource, name=None)\n",
      "  6078014544: TensorSpec(shape=(), dtype=tf.resource, name=None)\n",
      "  6078014928: TensorSpec(shape=(), dtype=tf.resource, name=None)\n",
      "  6078016848: TensorSpec(shape=(), dtype=tf.resource, name=None)\n",
      "  6078016272: TensorSpec(shape=(), dtype=tf.resource, name=None)\n",
      "  6078016464: TensorSpec(shape=(), dtype=tf.resource, name=None)\n",
      "  6078013392: TensorSpec(shape=(), dtype=tf.resource, name=None)\n",
      "  6078015888: TensorSpec(shape=(), dtype=tf.resource, name=None)\n",
      "  6078018192: TensorSpec(shape=(), dtype=tf.resource, name=None)\n",
      "  6078018384: TensorSpec(shape=(), dtype=tf.resource, name=None)\n",
      "  6078018000: TensorSpec(shape=(), dtype=tf.resource, name=None)\n",
      "  6078017232: TensorSpec(shape=(), dtype=tf.resource, name=None)\n",
      "  6078018768: TensorSpec(shape=(), dtype=tf.resource, name=None)\n",
      "  6078019152: TensorSpec(shape=(), dtype=tf.resource, name=None)\n",
      "  6078020496: TensorSpec(shape=(), dtype=tf.resource, name=None)\n",
      "  6078020688: TensorSpec(shape=(), dtype=tf.resource, name=None)\n",
      "  6078015696: TensorSpec(shape=(), dtype=tf.resource, name=None)\n",
      "  6078020112: TensorSpec(shape=(), dtype=tf.resource, name=None)\n",
      "  6078005328: TensorSpec(shape=(), dtype=tf.resource, name=None)\n",
      "  6078019920: TensorSpec(shape=(), dtype=tf.resource, name=None)\n",
      "  13375604496: TensorSpec(shape=(), dtype=tf.resource, name=None)\n",
      "  13375603920: TensorSpec(shape=(), dtype=tf.resource, name=None)\n",
      "  13375603728: TensorSpec(shape=(), dtype=tf.resource, name=None)\n",
      "  13375602960: TensorSpec(shape=(), dtype=tf.resource, name=None)\n",
      "  13375604112: TensorSpec(shape=(), dtype=tf.resource, name=None)\n",
      "  13375605840: TensorSpec(shape=(), dtype=tf.resource, name=None)\n",
      "  13375606032: TensorSpec(shape=(), dtype=tf.resource, name=None)\n",
      "  13375605648: TensorSpec(shape=(), dtype=tf.resource, name=None)\n",
      "  13375604880: TensorSpec(shape=(), dtype=tf.resource, name=None)\n",
      "  13375606416: TensorSpec(shape=(), dtype=tf.resource, name=None)\n",
      "  13375606800: TensorSpec(shape=(), dtype=tf.resource, name=None)\n",
      "  13375608144: TensorSpec(shape=(), dtype=tf.resource, name=None)\n",
      "  13375608336: TensorSpec(shape=(), dtype=tf.resource, name=None)\n",
      "  13375603344: TensorSpec(shape=(), dtype=tf.resource, name=None)\n",
      "  13375607760: TensorSpec(shape=(), dtype=tf.resource, name=None)\n",
      "  13375608720: TensorSpec(shape=(), dtype=tf.resource, name=None)\n",
      "  13375609104: TensorSpec(shape=(), dtype=tf.resource, name=None)\n",
      "  13375610448: TensorSpec(shape=(), dtype=tf.resource, name=None)\n",
      "  13375610640: TensorSpec(shape=(), dtype=tf.resource, name=None)\n",
      "  13375607568: TensorSpec(shape=(), dtype=tf.resource, name=None)\n",
      "  13375610064: TensorSpec(shape=(), dtype=tf.resource, name=None)\n",
      "  13375611024: TensorSpec(shape=(), dtype=tf.resource, name=None)\n",
      "  13375611408: TensorSpec(shape=(), dtype=tf.resource, name=None)\n",
      "  13375612752: TensorSpec(shape=(), dtype=tf.resource, name=None)\n",
      "  13375612944: TensorSpec(shape=(), dtype=tf.resource, name=None)\n",
      "  13375609872: TensorSpec(shape=(), dtype=tf.resource, name=None)\n",
      "  13375612368: TensorSpec(shape=(), dtype=tf.resource, name=None)\n",
      "  13375613328: TensorSpec(shape=(), dtype=tf.resource, name=None)\n",
      "  13375613712: TensorSpec(shape=(), dtype=tf.resource, name=None)\n",
      "  13375615056: TensorSpec(shape=(), dtype=tf.resource, name=None)\n",
      "  13375615248: TensorSpec(shape=(), dtype=tf.resource, name=None)\n",
      "  13375612176: TensorSpec(shape=(), dtype=tf.resource, name=None)\n",
      "  13375614672: TensorSpec(shape=(), dtype=tf.resource, name=None)\n",
      "  13375615632: TensorSpec(shape=(), dtype=tf.resource, name=None)\n",
      "  13375616016: TensorSpec(shape=(), dtype=tf.resource, name=None)\n",
      "  13375617360: TensorSpec(shape=(), dtype=tf.resource, name=None)\n",
      "  13375617552: TensorSpec(shape=(), dtype=tf.resource, name=None)\n",
      "  13375614480: TensorSpec(shape=(), dtype=tf.resource, name=None)\n",
      "  13375616976: TensorSpec(shape=(), dtype=tf.resource, name=None)\n",
      "  13375617936: TensorSpec(shape=(), dtype=tf.resource, name=None)\n",
      "  13375618704: TensorSpec(shape=(), dtype=tf.resource, name=None)\n",
      "  13374783760: TensorSpec(shape=(), dtype=tf.resource, name=None)\n",
      "  13374784336: TensorSpec(shape=(), dtype=tf.resource, name=None)\n",
      "  13375618896: TensorSpec(shape=(), dtype=tf.resource, name=None)\n",
      "  13375618320: TensorSpec(shape=(), dtype=tf.resource, name=None)\n",
      "  13374784720: TensorSpec(shape=(), dtype=tf.resource, name=None)\n",
      "  13374785104: TensorSpec(shape=(), dtype=tf.resource, name=None)\n",
      "  13374786448: TensorSpec(shape=(), dtype=tf.resource, name=None)\n",
      "  13374786640: TensorSpec(shape=(), dtype=tf.resource, name=None)\n",
      "  13374783952: TensorSpec(shape=(), dtype=tf.resource, name=None)\n",
      "  13374786064: TensorSpec(shape=(), dtype=tf.resource, name=None)\n",
      "  13374787024: TensorSpec(shape=(), dtype=tf.resource, name=None)\n",
      "  13374787408: TensorSpec(shape=(), dtype=tf.resource, name=None)\n",
      "  13374788752: TensorSpec(shape=(), dtype=tf.resource, name=None)\n",
      "  13374788944: TensorSpec(shape=(), dtype=tf.resource, name=None)\n",
      "  13374785872: TensorSpec(shape=(), dtype=tf.resource, name=None)\n",
      "  13374788368: TensorSpec(shape=(), dtype=tf.resource, name=None)\n",
      "  13374789328: TensorSpec(shape=(), dtype=tf.resource, name=None)\n",
      "  13374789712: TensorSpec(shape=(), dtype=tf.resource, name=None)\n",
      "  13374791056: TensorSpec(shape=(), dtype=tf.resource, name=None)\n",
      "  13374791248: TensorSpec(shape=(), dtype=tf.resource, name=None)\n",
      "  13374788176: TensorSpec(shape=(), dtype=tf.resource, name=None)\n",
      "  13374790672: TensorSpec(shape=(), dtype=tf.resource, name=None)\n",
      "  13374791632: TensorSpec(shape=(), dtype=tf.resource, name=None)\n",
      "  13374792016: TensorSpec(shape=(), dtype=tf.resource, name=None)\n",
      "  13374793360: TensorSpec(shape=(), dtype=tf.resource, name=None)\n",
      "  13374793552: TensorSpec(shape=(), dtype=tf.resource, name=None)\n",
      "  13374790480: TensorSpec(shape=(), dtype=tf.resource, name=None)\n",
      "  13374792976: TensorSpec(shape=(), dtype=tf.resource, name=None)\n",
      "  13374793936: TensorSpec(shape=(), dtype=tf.resource, name=None)\n",
      "  13374794320: TensorSpec(shape=(), dtype=tf.resource, name=None)\n",
      "  13374795664: TensorSpec(shape=(), dtype=tf.resource, name=None)\n",
      "  13374795856: TensorSpec(shape=(), dtype=tf.resource, name=None)\n",
      "  13374792784: TensorSpec(shape=(), dtype=tf.resource, name=None)\n",
      "  13374795280: TensorSpec(shape=(), dtype=tf.resource, name=None)\n",
      "  13374796240: TensorSpec(shape=(), dtype=tf.resource, name=None)\n",
      "  13374796624: TensorSpec(shape=(), dtype=tf.resource, name=None)\n",
      "  13374797968: TensorSpec(shape=(), dtype=tf.resource, name=None)\n",
      "  13374798160: TensorSpec(shape=(), dtype=tf.resource, name=None)\n",
      "  13374795088: TensorSpec(shape=(), dtype=tf.resource, name=None)\n",
      "  13374797584: TensorSpec(shape=(), dtype=tf.resource, name=None)\n",
      "  13374798544: TensorSpec(shape=(), dtype=tf.resource, name=None)\n",
      "  13374799312: TensorSpec(shape=(), dtype=tf.resource, name=None)\n",
      "  13374882256: TensorSpec(shape=(), dtype=tf.resource, name=None)\n",
      "  13374882832: TensorSpec(shape=(), dtype=tf.resource, name=None)\n",
      "  13374797392: TensorSpec(shape=(), dtype=tf.resource, name=None)\n",
      "  13374799504: TensorSpec(shape=(), dtype=tf.resource, name=None)\n",
      "  13374882640: TensorSpec(shape=(), dtype=tf.resource, name=None)\n",
      "  13374883216: TensorSpec(shape=(), dtype=tf.resource, name=None)\n",
      "  13374884560: TensorSpec(shape=(), dtype=tf.resource, name=None)\n",
      "  13374884752: TensorSpec(shape=(), dtype=tf.resource, name=None)\n",
      "  13374882448: TensorSpec(shape=(), dtype=tf.resource, name=None)\n",
      "  13374884176: TensorSpec(shape=(), dtype=tf.resource, name=None)\n",
      "  13374885136: TensorSpec(shape=(), dtype=tf.resource, name=None)\n",
      "  13374885520: TensorSpec(shape=(), dtype=tf.resource, name=None)\n",
      "  13374886864: TensorSpec(shape=(), dtype=tf.resource, name=None)\n",
      "  13374887056: TensorSpec(shape=(), dtype=tf.resource, name=None)\n",
      "  13374883984: TensorSpec(shape=(), dtype=tf.resource, name=None)\n",
      "  13374886480: TensorSpec(shape=(), dtype=tf.resource, name=None)\n",
      "  13374887440: TensorSpec(shape=(), dtype=tf.resource, name=None)\n",
      "  13374887824: TensorSpec(shape=(), dtype=tf.resource, name=None)\n",
      "  13374889168: TensorSpec(shape=(), dtype=tf.resource, name=None)\n",
      "  13374889360: TensorSpec(shape=(), dtype=tf.resource, name=None)\n",
      "  13374886288: TensorSpec(shape=(), dtype=tf.resource, name=None)\n",
      "  13374888784: TensorSpec(shape=(), dtype=tf.resource, name=None)\n",
      "  13374889744: TensorSpec(shape=(), dtype=tf.resource, name=None)\n",
      "  13374890128: TensorSpec(shape=(), dtype=tf.resource, name=None)\n",
      "  13374891472: TensorSpec(shape=(), dtype=tf.resource, name=None)\n",
      "  13374891664: TensorSpec(shape=(), dtype=tf.resource, name=None)\n",
      "  13374888592: TensorSpec(shape=(), dtype=tf.resource, name=None)\n",
      "  13374891088: TensorSpec(shape=(), dtype=tf.resource, name=None)\n",
      "  13374892048: TensorSpec(shape=(), dtype=tf.resource, name=None)\n",
      "  13374892432: TensorSpec(shape=(), dtype=tf.resource, name=None)\n",
      "  13374893776: TensorSpec(shape=(), dtype=tf.resource, name=None)\n",
      "  13374893968: TensorSpec(shape=(), dtype=tf.resource, name=None)\n",
      "  13374890896: TensorSpec(shape=(), dtype=tf.resource, name=None)\n",
      "  13374893392: TensorSpec(shape=(), dtype=tf.resource, name=None)\n",
      "  13374894352: TensorSpec(shape=(), dtype=tf.resource, name=None)\n",
      "  13374894736: TensorSpec(shape=(), dtype=tf.resource, name=None)\n",
      "  13374896080: TensorSpec(shape=(), dtype=tf.resource, name=None)\n",
      "  13374896272: TensorSpec(shape=(), dtype=tf.resource, name=None)\n",
      "  13374893200: TensorSpec(shape=(), dtype=tf.resource, name=None)\n",
      "  13374895696: TensorSpec(shape=(), dtype=tf.resource, name=None)\n",
      "  13374896656: TensorSpec(shape=(), dtype=tf.resource, name=None)\n",
      "  13374897424: TensorSpec(shape=(), dtype=tf.resource, name=None)\n",
      "  13374897808: TensorSpec(shape=(), dtype=tf.resource, name=None)\n",
      "  6059344528: TensorSpec(shape=(), dtype=tf.resource, name=None)\n",
      "  13374897616: TensorSpec(shape=(), dtype=tf.resource, name=None)\n",
      "  13374897040: TensorSpec(shape=(), dtype=tf.resource, name=None)\n",
      "  6059344720: TensorSpec(shape=(), dtype=tf.resource, name=None)\n",
      "  6059345104: TensorSpec(shape=(), dtype=tf.resource, name=None)\n",
      "  6059346448: TensorSpec(shape=(), dtype=tf.resource, name=None)\n",
      "  6059346640: TensorSpec(shape=(), dtype=tf.resource, name=None)\n",
      "  6059344144: TensorSpec(shape=(), dtype=tf.resource, name=None)\n",
      "  6059346064: TensorSpec(shape=(), dtype=tf.resource, name=None)\n",
      "  6059347024: TensorSpec(shape=(), dtype=tf.resource, name=None)\n",
      "  6059347408: TensorSpec(shape=(), dtype=tf.resource, name=None)\n",
      "  6059348752: TensorSpec(shape=(), dtype=tf.resource, name=None)\n",
      "  6059348944: TensorSpec(shape=(), dtype=tf.resource, name=None)\n",
      "  6059345872: TensorSpec(shape=(), dtype=tf.resource, name=None)\n",
      "  6059348368: TensorSpec(shape=(), dtype=tf.resource, name=None)\n",
      "  6059349328: TensorSpec(shape=(), dtype=tf.resource, name=None)\n",
      "  6059349712: TensorSpec(shape=(), dtype=tf.resource, name=None)\n",
      "  6059351056: TensorSpec(shape=(), dtype=tf.resource, name=None)\n",
      "  6059351248: TensorSpec(shape=(), dtype=tf.resource, name=None)\n",
      "  6059348176: TensorSpec(shape=(), dtype=tf.resource, name=None)\n",
      "  6059350672: TensorSpec(shape=(), dtype=tf.resource, name=None)\n",
      "  6059351632: TensorSpec(shape=(), dtype=tf.resource, name=None)\n",
      "  6059352016: TensorSpec(shape=(), dtype=tf.resource, name=None)\n",
      "  6059353360: TensorSpec(shape=(), dtype=tf.resource, name=None)\n",
      "  6059353552: TensorSpec(shape=(), dtype=tf.resource, name=None)\n",
      "  6059350480: TensorSpec(shape=(), dtype=tf.resource, name=None)\n",
      "  6059352976: TensorSpec(shape=(), dtype=tf.resource, name=None)\n",
      "  6059353936: TensorSpec(shape=(), dtype=tf.resource, name=None)\n",
      "  6059354320: TensorSpec(shape=(), dtype=tf.resource, name=None)\n",
      "  6059355664: TensorSpec(shape=(), dtype=tf.resource, name=None)\n",
      "  6059355856: TensorSpec(shape=(), dtype=tf.resource, name=None)\n",
      "  6059352784: TensorSpec(shape=(), dtype=tf.resource, name=None)\n",
      "  6059355280: TensorSpec(shape=(), dtype=tf.resource, name=None)\n",
      "  6059356240: TensorSpec(shape=(), dtype=tf.resource, name=None)\n",
      "  6059356624: TensorSpec(shape=(), dtype=tf.resource, name=None)\n",
      "  6059358544: TensorSpec(shape=(), dtype=tf.resource, name=None)\n",
      "  6059357968: TensorSpec(shape=(), dtype=tf.resource, name=None)\n",
      "  6059358160: TensorSpec(shape=(), dtype=tf.resource, name=None)\n",
      "  6059355088: TensorSpec(shape=(), dtype=tf.resource, name=None)\n",
      "  6059357584: TensorSpec(shape=(), dtype=tf.resource, name=None)\n",
      "  6059359888: TensorSpec(shape=(), dtype=tf.resource, name=None)\n",
      "  6059359312: TensorSpec(shape=(), dtype=tf.resource, name=None)\n",
      "  6059359696: TensorSpec(shape=(), dtype=tf.resource, name=None)\n",
      "  6059358928: TensorSpec(shape=(), dtype=tf.resource, name=None)\n",
      "  6059115536: TensorSpec(shape=(), dtype=tf.resource, name=None)\n",
      "  6059115152: TensorSpec(shape=(), dtype=tf.resource, name=None)\n",
      "  6059116496: TensorSpec(shape=(), dtype=tf.resource, name=None)\n",
      "  6059116688: TensorSpec(shape=(), dtype=tf.resource, name=None)\n",
      "  6059114960: TensorSpec(shape=(), dtype=tf.resource, name=None)\n",
      "  6059116112: TensorSpec(shape=(), dtype=tf.resource, name=None)\n",
      "  6059117072: TensorSpec(shape=(), dtype=tf.resource, name=None)\n",
      "  6059117456: TensorSpec(shape=(), dtype=tf.resource, name=None)\n",
      "  6059118800: TensorSpec(shape=(), dtype=tf.resource, name=None)\n",
      "  6059118992: TensorSpec(shape=(), dtype=tf.resource, name=None)\n",
      "  6059115920: TensorSpec(shape=(), dtype=tf.resource, name=None)\n",
      "  6059118416: TensorSpec(shape=(), dtype=tf.resource, name=None)\n",
      "  6059119376: TensorSpec(shape=(), dtype=tf.resource, name=None)\n",
      "  6059120336: TensorSpec(shape=(), dtype=tf.resource, name=None)\n",
      "  6059121104: TensorSpec(shape=(), dtype=tf.resource, name=None)\n",
      "  6059121872: TensorSpec(shape=(), dtype=tf.resource, name=None)\n"
     ]
    },
    {
     "name": "stderr",
     "output_type": "stream",
     "text": [
      "W0000 00:00:1733499220.742549  409198 tf_tfl_flatbuffer_helpers.cc:365] Ignored output_format.\n",
      "W0000 00:00:1733499220.742573  409198 tf_tfl_flatbuffer_helpers.cc:368] Ignored drop_control_dependency.\n",
      "2024-12-06 21:03:40.742704: I tensorflow/cc/saved_model/reader.cc:83] Reading SavedModel from: /var/folders/0v/knpldzds1fd3r2ffhv6brsrh0000gn/T/tmpc61kyl68\n",
      "2024-12-06 21:03:40.751131: I tensorflow/cc/saved_model/reader.cc:52] Reading meta graph with tags { serve }\n",
      "2024-12-06 21:03:40.751144: I tensorflow/cc/saved_model/reader.cc:147] Reading SavedModel debug info (if present) from: /var/folders/0v/knpldzds1fd3r2ffhv6brsrh0000gn/T/tmpc61kyl68\n",
      "2024-12-06 21:03:40.850198: I tensorflow/cc/saved_model/loader.cc:236] Restoring SavedModel bundle.\n",
      "2024-12-06 21:03:41.302128: I tensorflow/cc/saved_model/loader.cc:220] Running initialization op on SavedModel bundle at path: /var/folders/0v/knpldzds1fd3r2ffhv6brsrh0000gn/T/tmpc61kyl68\n",
      "2024-12-06 21:03:41.414305: I tensorflow/cc/saved_model/loader.cc:466] SavedModel load for tags { serve }; Status: success: OK. Took 671601 microseconds.\n"
     ]
    }
   ],
   "source": [
    "# Convert the model.\n",
    "converter = tf.lite.TFLiteConverter.from_keras_model(model)\n",
    "tflite_model = converter.convert()\n",
    "\n",
    "# Save the model.\n",
    "with open('sea-creature-model.tflite', 'wb') as f:\n",
    "  f.write(tflite_model)"
   ]
  },
  {
   "cell_type": "code",
   "execution_count": 147,
   "metadata": {},
   "outputs": [
    {
     "name": "stdout",
     "output_type": "stream",
     "text": [
      "Pipfile                    requirements.txt\n",
      "Pipfile.lock               sea-creature-model.tflite\n",
      "README.md                  tenserflow.ipynb\n",
      "\u001b[34mdata\u001b[m\u001b[m                       xception_v1_07_0.747.keras\n",
      "model_v1.weights.h5        xception_v2_10_0.852.keras\n",
      "notebook.ipynb             xception_v2_27_0.854.keras\n"
     ]
    }
   ],
   "source": [
    "!ls"
   ]
  },
  {
   "cell_type": "markdown",
   "metadata": {},
   "source": [
    "## Remove TF dependency"
   ]
  },
  {
   "cell_type": "code",
   "execution_count": 157,
   "metadata": {},
   "outputs": [
    {
     "name": "stdout",
     "output_type": "stream",
     "text": [
      "\u001b[31mERROR: Could not find a version that satisfies the requirement tflite-runtime (from versions: none)\u001b[0m\u001b[31m\n",
      "\u001b[0m\u001b[31mERROR: No matching distribution found for tflite-runtime\u001b[0m\u001b[31m\n",
      "\u001b[0m"
     ]
    }
   ],
   "source": [
    "!pip install tflite-runtime"
   ]
  },
  {
   "cell_type": "code",
   "execution_count": null,
   "metadata": {},
   "outputs": [],
   "source": [
    "# import tensorflow.lite as tflite\n",
    "import tflite_runtime as tflite\n",
    "from PIL import Image"
   ]
  },
  {
   "cell_type": "code",
   "execution_count": 149,
   "metadata": {},
   "outputs": [],
   "source": [
    "with Image.open(fullname) as img:\n",
    "  img = img.resize((299,299), Image.NEAREST)"
   ]
  },
  {
   "cell_type": "code",
   "execution_count": 150,
   "metadata": {},
   "outputs": [],
   "source": [
    "def preprocess_input(x):\n",
    "  x /= 127.5\n",
    "  x -= 1.\n",
    "  return x"
   ]
  },
  {
   "cell_type": "code",
   "execution_count": 151,
   "metadata": {},
   "outputs": [],
   "source": [
    "x = np.array(img, dtype='float32')\n",
    "X = np.array([x])\n",
    "\n",
    "X = preprocess_input(X)"
   ]
  },
  {
   "cell_type": "code",
   "execution_count": 152,
   "metadata": {},
   "outputs": [],
   "source": [
    "interpreter = tflite.Interpreter(model_path='sea-creature-model.tflite')\n",
    "interpreter.allocate_tensors()\n",
    "\n",
    "input_index = interpreter.get_input_details()[0]['index']\n",
    "output_index = interpreter.get_output_details()[0]['index']"
   ]
  },
  {
   "cell_type": "code",
   "execution_count": 153,
   "metadata": {},
   "outputs": [],
   "source": [
    "interpreter.set_tensor(input_index, X)\n",
    "interpreter.invoke()\n",
    "preds = interpreter.get_tensor(output_index)"
   ]
  },
  {
   "cell_type": "code",
   "execution_count": 154,
   "metadata": {},
   "outputs": [],
   "source": [
    "classes = [\n",
    "    'Clams',\n",
    "    'Corals',\n",
    "    'Crabs',\n",
    "    'Dolphin',\n",
    "    'Eel',\n",
    "    'Fish',\n",
    "    'Jelly Fish',\n",
    "    'Lobster',\n",
    "    'Nudibranchs',\n",
    "    'Octopus',\n",
    "    'Otter',\n",
    "    'Penguin',\n",
    "    'Puffers',\n",
    "    'Seahorse',\n",
    "    'Sea Rays',\n",
    "    'Sea Urchins',\n",
    "    'Seal',\n",
    "    'Sharks',\n",
    "    'Shrimp',\n",
    "    'Squid',\n",
    "    'Starfish',\n",
    "    'Turtle_Tortoise',\n",
    "    'Whale'\n",
    "]"
   ]
  },
  {
   "cell_type": "code",
   "execution_count": 155,
   "metadata": {},
   "outputs": [
    {
     "data": {
      "text/plain": [
       "{'Clams': np.float32(5.2768817),\n",
       " 'Corals': np.float32(2.831375),\n",
       " 'Crabs': np.float32(-5.9667444),\n",
       " 'Dolphin': np.float32(-4.4443774),\n",
       " 'Eel': np.float32(-1.3178099),\n",
       " 'Fish': np.float32(-1.4545499),\n",
       " 'Jelly Fish': np.float32(-2.766472),\n",
       " 'Lobster': np.float32(1.823356),\n",
       " 'Nudibranchs': np.float32(-1.7834287),\n",
       " 'Octopus': np.float32(0.093307145),\n",
       " 'Otter': np.float32(-4.178796),\n",
       " 'Penguin': np.float32(-4.4255123),\n",
       " 'Puffers': np.float32(-0.94791573),\n",
       " 'Seahorse': np.float32(3.0982525),\n",
       " 'Sea Rays': np.float32(-0.5382905),\n",
       " 'Sea Urchins': np.float32(-3.9834547),\n",
       " 'Seal': np.float32(-5.383499),\n",
       " 'Sharks': np.float32(-2.9746158),\n",
       " 'Shrimp': np.float32(-1.5158027),\n",
       " 'Squid': np.float32(-0.4403369),\n",
       " 'Starfish': np.float32(-4.7617145),\n",
       " 'Turtle_Tortoise': np.float32(-3.1611476),\n",
       " 'Whale': np.float32(-6.208831)}"
      ]
     },
     "execution_count": 155,
     "metadata": {},
     "output_type": "execute_result"
    }
   ],
   "source": [
    "dict(zip(classes, pred[0]))"
   ]
  }
 ],
 "metadata": {
  "kernelspec": {
   "display_name": "sea_creatures_classification-UVuXybmS",
   "language": "python",
   "name": "python3"
  },
  "language_info": {
   "codemirror_mode": {
    "name": "ipython",
    "version": 3
   },
   "file_extension": ".py",
   "mimetype": "text/x-python",
   "name": "python",
   "nbconvert_exporter": "python",
   "pygments_lexer": "ipython3",
   "version": "3.12.6"
  }
 },
 "nbformat": 4,
 "nbformat_minor": 2
}
