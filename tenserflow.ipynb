{
 "cells": [
  {
   "cell_type": "code",
   "execution_count": 2,
   "metadata": {},
   "outputs": [
    {
     "data": {
      "application/javascript": "IPython.notebook.set_autosave_interval(0)"
     },
     "metadata": {},
     "output_type": "display_data"
    },
    {
     "name": "stdout",
     "output_type": "stream",
     "text": [
      "Autosave disabled\n"
     ]
    }
   ],
   "source": [
    "%autosave 0"
   ]
  },
  {
   "cell_type": "code",
   "execution_count": 3,
   "metadata": {},
   "outputs": [
    {
     "data": {
      "text/plain": [
       "'2.17.1'"
      ]
     },
     "execution_count": 3,
     "metadata": {},
     "output_type": "execute_result"
    }
   ],
   "source": [
    "import tensorflow as tf\n",
    "from tensorflow import keras\n",
    "\n",
    "import numpy as np\n",
    "\n",
    "tf.__version__"
   ]
  },
  {
   "cell_type": "code",
   "execution_count": 4,
   "metadata": {},
   "outputs": [],
   "source": [
    "model = keras.models.load_model('xception_v2_10_0.852.keras')"
   ]
  },
  {
   "cell_type": "code",
   "execution_count": 5,
   "metadata": {},
   "outputs": [],
   "source": [
    "path = './data/Clams'\n",
    "name = '10711395_a16c4c2901_o.jpg'\n",
    "fullname = f'{path}/{name}'"
   ]
  },
  {
   "cell_type": "code",
   "execution_count": 6,
   "metadata": {},
   "outputs": [],
   "source": [
    "from tensorflow.keras.preprocessing.image import load_img\n",
    "from tensorflow.keras.applications.xception import preprocess_input"
   ]
  },
  {
   "cell_type": "code",
   "execution_count": 7,
   "metadata": {},
   "outputs": [],
   "source": [
    "img = load_img(fullname, target_size=(299, 299))\n",
    "\n",
    "x = np.array(img)\n",
    "X = np.array([x])\n",
    "\n",
    "X = preprocess_input(X)"
   ]
  },
  {
   "cell_type": "code",
   "execution_count": 8,
   "metadata": {},
   "outputs": [
    {
     "name": "stderr",
     "output_type": "stream",
     "text": [
      "WARNING: All log messages before absl::InitializeLog() is called are written to STDERR\n",
      "I0000 00:00:1733504710.109010  584913 service.cc:146] XLA service 0x31fe3d790 initialized for platform Host (this does not guarantee that XLA will be used). Devices:\n",
      "I0000 00:00:1733504710.109055  584913 service.cc:154]   StreamExecutor device (0): Host, Default Version\n",
      "2024-12-06 22:35:10.129980: I tensorflow/compiler/mlir/tensorflow/utils/dump_mlir_util.cc:268] disabling MLIR crash reproducer, set env var `MLIR_CRASH_REPRODUCER_DIRECTORY` to enable.\n",
      "I0000 00:00:1733504710.708861  584913 device_compiler.h:188] Compiled cluster using XLA!  This line is logged at most once for the lifetime of the process.\n"
     ]
    },
    {
     "name": "stdout",
     "output_type": "stream",
     "text": [
      "\u001b[1m1/1\u001b[0m \u001b[32m━━━━━━━━━━━━━━━━━━━━\u001b[0m\u001b[37m\u001b[0m \u001b[1m2s\u001b[0m 2s/step\n"
     ]
    }
   ],
   "source": [
    "pred = model.predict(X)"
   ]
  },
  {
   "cell_type": "code",
   "execution_count": 9,
   "metadata": {},
   "outputs": [],
   "source": [
    "classes = [\n",
    "    'Clams',\n",
    "    'Corals',\n",
    "    'Crabs',\n",
    "    'Dolphin',\n",
    "    'Eel',\n",
    "    'Fish',\n",
    "    'Jelly Fish',\n",
    "    'Lobster',\n",
    "    'Nudibranchs',\n",
    "    'Octopus',\n",
    "    'Otter',\n",
    "    'Penguin',\n",
    "    'Puffers',\n",
    "    'Seahorse',\n",
    "    'Sea Rays',\n",
    "    'Sea Urchins',\n",
    "    'Seal',\n",
    "    'Sharks',\n",
    "    'Shrimp',\n",
    "    'Squid',\n",
    "    'Starfish',\n",
    "    'Turtle_Tortoise',\n",
    "    'Whale'\n",
    "]"
   ]
  },
  {
   "cell_type": "code",
   "execution_count": 10,
   "metadata": {},
   "outputs": [
    {
     "data": {
      "text/plain": [
       "{'Clams': 5.2768817,\n",
       " 'Corals': 2.831375,\n",
       " 'Crabs': -5.9667444,\n",
       " 'Dolphin': -4.4443774,\n",
       " 'Eel': -1.3178099,\n",
       " 'Fish': -1.4545499,\n",
       " 'Jelly Fish': -2.766472,\n",
       " 'Lobster': 1.823356,\n",
       " 'Nudibranchs': -1.7834287,\n",
       " 'Octopus': 0.093307145,\n",
       " 'Otter': -4.178796,\n",
       " 'Penguin': -4.4255123,\n",
       " 'Puffers': -0.94791573,\n",
       " 'Seahorse': 3.0982525,\n",
       " 'Sea Rays': -0.5382905,\n",
       " 'Sea Urchins': -3.9834547,\n",
       " 'Seal': -5.383499,\n",
       " 'Sharks': -2.9746158,\n",
       " 'Shrimp': -1.5158027,\n",
       " 'Squid': -0.4403369,\n",
       " 'Starfish': -4.7617145,\n",
       " 'Turtle_Tortoise': -3.1611476,\n",
       " 'Whale': -6.208831}"
      ]
     },
     "execution_count": 10,
     "metadata": {},
     "output_type": "execute_result"
    }
   ],
   "source": [
    "dict(zip(classes, pred[0]))"
   ]
  },
  {
   "cell_type": "markdown",
   "metadata": {},
   "source": [
    "## Convert Keras to TF-Lite"
   ]
  },
  {
   "cell_type": "code",
   "execution_count": 11,
   "metadata": {},
   "outputs": [
    {
     "name": "stdout",
     "output_type": "stream",
     "text": [
      "INFO:tensorflow:Assets written to: /var/folders/0v/knpldzds1fd3r2ffhv6brsrh0000gn/T/tmpht67e074/assets\n"
     ]
    },
    {
     "name": "stderr",
     "output_type": "stream",
     "text": [
      "INFO:tensorflow:Assets written to: /var/folders/0v/knpldzds1fd3r2ffhv6brsrh0000gn/T/tmpht67e074/assets\n"
     ]
    },
    {
     "name": "stdout",
     "output_type": "stream",
     "text": [
      "Saved artifact at '/var/folders/0v/knpldzds1fd3r2ffhv6brsrh0000gn/T/tmpht67e074'. The following endpoints are available:\n",
      "\n",
      "* Endpoint 'serve'\n",
      "  args_0 (POSITIONAL_ONLY): TensorSpec(shape=(None, 299, 299, 3), dtype=tf.float32, name='input_layer_3')\n",
      "Output Type:\n",
      "  TensorSpec(shape=(None, 23), dtype=tf.float32, name=None)\n",
      "Captures:\n",
      "  13241604704: TensorSpec(shape=(), dtype=tf.resource, name=None)\n",
      "  13241845008: TensorSpec(shape=(), dtype=tf.resource, name=None)\n",
      "  13241847120: TensorSpec(shape=(), dtype=tf.resource, name=None)\n",
      "  13241610864: TensorSpec(shape=(), dtype=tf.resource, name=None)\n",
      "  13241613152: TensorSpec(shape=(), dtype=tf.resource, name=None)\n",
      "  13241611920: TensorSpec(shape=(), dtype=tf.resource, name=None)\n",
      "  13241853632: TensorSpec(shape=(), dtype=tf.resource, name=None)\n",
      "  13241856800: TensorSpec(shape=(), dtype=tf.resource, name=None)\n",
      "  13241852752: TensorSpec(shape=(), dtype=tf.resource, name=None)\n",
      "  13241856096: TensorSpec(shape=(), dtype=tf.resource, name=None)\n",
      "  13241855568: TensorSpec(shape=(), dtype=tf.resource, name=None)\n",
      "  13241859792: TensorSpec(shape=(), dtype=tf.resource, name=None)\n",
      "  13241912304: TensorSpec(shape=(), dtype=tf.resource, name=None)\n",
      "  13241913360: TensorSpec(shape=(), dtype=tf.resource, name=None)\n",
      "  13241909312: TensorSpec(shape=(), dtype=tf.resource, name=None)\n",
      "  13241910720: TensorSpec(shape=(), dtype=tf.resource, name=None)\n",
      "  13241916000: TensorSpec(shape=(), dtype=tf.resource, name=None)\n",
      "  13241917056: TensorSpec(shape=(), dtype=tf.resource, name=None)\n",
      "  13241922864: TensorSpec(shape=(), dtype=tf.resource, name=None)\n",
      "  13241909840: TensorSpec(shape=(), dtype=tf.resource, name=None)\n",
      "  13241920928: TensorSpec(shape=(), dtype=tf.resource, name=None)\n",
      "  13241915472: TensorSpec(shape=(), dtype=tf.resource, name=None)\n",
      "  13241918288: TensorSpec(shape=(), dtype=tf.resource, name=None)\n",
      "  13242009200: TensorSpec(shape=(), dtype=tf.resource, name=None)\n",
      "  13241922160: TensorSpec(shape=(), dtype=tf.resource, name=None)\n",
      "  13241925328: TensorSpec(shape=(), dtype=tf.resource, name=None)\n",
      "  13242007968: TensorSpec(shape=(), dtype=tf.resource, name=None)\n",
      "  13242013600: TensorSpec(shape=(), dtype=tf.resource, name=None)\n",
      "  13242014656: TensorSpec(shape=(), dtype=tf.resource, name=None)\n",
      "  13242008144: TensorSpec(shape=(), dtype=tf.resource, name=None)\n",
      "  13242018528: TensorSpec(shape=(), dtype=tf.resource, name=None)\n",
      "  13242013072: TensorSpec(shape=(), dtype=tf.resource, name=None)\n",
      "  13242015888: TensorSpec(shape=(), dtype=tf.resource, name=None)\n",
      "  13242021872: TensorSpec(shape=(), dtype=tf.resource, name=None)\n",
      "  13242022752: TensorSpec(shape=(), dtype=tf.resource, name=None)\n",
      "  13242112080: TensorSpec(shape=(), dtype=tf.resource, name=None)\n",
      "  13242023104: TensorSpec(shape=(), dtype=tf.resource, name=None)\n",
      "  13242107856: TensorSpec(shape=(), dtype=tf.resource, name=None)\n",
      "  13242023632: TensorSpec(shape=(), dtype=tf.resource, name=None)\n",
      "  13242105920: TensorSpec(shape=(), dtype=tf.resource, name=None)\n",
      "  13242111376: TensorSpec(shape=(), dtype=tf.resource, name=None)\n",
      "  13242115072: TensorSpec(shape=(), dtype=tf.resource, name=None)\n",
      "  13242109440: TensorSpec(shape=(), dtype=tf.resource, name=None)\n",
      "  13242113840: TensorSpec(shape=(), dtype=tf.resource, name=None)\n",
      "  13242119824: TensorSpec(shape=(), dtype=tf.resource, name=None)\n",
      "  13242120704: TensorSpec(shape=(), dtype=tf.resource, name=None)\n",
      "  13242121584: TensorSpec(shape=(), dtype=tf.resource, name=None)\n",
      "  13242121936: TensorSpec(shape=(), dtype=tf.resource, name=None)\n",
      "  13242121408: TensorSpec(shape=(), dtype=tf.resource, name=None)\n",
      "  13242205984: TensorSpec(shape=(), dtype=tf.resource, name=None)\n",
      "  13242208800: TensorSpec(shape=(), dtype=tf.resource, name=None)\n",
      "  13242209856: TensorSpec(shape=(), dtype=tf.resource, name=None)\n",
      "  13242217600: TensorSpec(shape=(), dtype=tf.resource, name=None)\n",
      "  13242204400: TensorSpec(shape=(), dtype=tf.resource, name=None)\n",
      "  13242213728: TensorSpec(shape=(), dtype=tf.resource, name=None)\n",
      "  13242208272: TensorSpec(shape=(), dtype=tf.resource, name=None)\n",
      "  13242211088: TensorSpec(shape=(), dtype=tf.resource, name=None)\n",
      "  13242216896: TensorSpec(shape=(), dtype=tf.resource, name=None)\n",
      "  13242219184: TensorSpec(shape=(), dtype=tf.resource, name=None)\n",
      "  13242214960: TensorSpec(shape=(), dtype=tf.resource, name=None)\n",
      "  13242219360: TensorSpec(shape=(), dtype=tf.resource, name=None)\n",
      "  13242323136: TensorSpec(shape=(), dtype=tf.resource, name=None)\n",
      "  13242324192: TensorSpec(shape=(), dtype=tf.resource, name=None)\n",
      "  13242320320: TensorSpec(shape=(), dtype=tf.resource, name=None)\n",
      "  13242328064: TensorSpec(shape=(), dtype=tf.resource, name=None)\n",
      "  13242322608: TensorSpec(shape=(), dtype=tf.resource, name=None)\n",
      "  13242325424: TensorSpec(shape=(), dtype=tf.resource, name=None)\n",
      "  13242330704: TensorSpec(shape=(), dtype=tf.resource, name=None)\n",
      "  13242331760: TensorSpec(shape=(), dtype=tf.resource, name=None)\n",
      "  13242332288: TensorSpec(shape=(), dtype=tf.resource, name=None)\n",
      "  13242331232: TensorSpec(shape=(), dtype=tf.resource, name=None)\n",
      "  13242333520: TensorSpec(shape=(), dtype=tf.resource, name=None)\n",
      "  13242334224: TensorSpec(shape=(), dtype=tf.resource, name=None)\n",
      "  13242404000: TensorSpec(shape=(), dtype=tf.resource, name=None)\n",
      "  13242405056: TensorSpec(shape=(), dtype=tf.resource, name=None)\n",
      "  13242403296: TensorSpec(shape=(), dtype=tf.resource, name=None)\n",
      "  13242408928: TensorSpec(shape=(), dtype=tf.resource, name=None)\n",
      "  13242403472: TensorSpec(shape=(), dtype=tf.resource, name=None)\n",
      "  13242406288: TensorSpec(shape=(), dtype=tf.resource, name=None)\n",
      "  13242412976: TensorSpec(shape=(), dtype=tf.resource, name=None)\n",
      "  13242416496: TensorSpec(shape=(), dtype=tf.resource, name=None)\n",
      "  13242414032: TensorSpec(shape=(), dtype=tf.resource, name=None)\n",
      "  13242413504: TensorSpec(shape=(), dtype=tf.resource, name=None)\n",
      "  13242415616: TensorSpec(shape=(), dtype=tf.resource, name=None)\n",
      "  13242415440: TensorSpec(shape=(), dtype=tf.resource, name=None)\n",
      "  13256117760: TensorSpec(shape=(), dtype=tf.resource, name=None)\n",
      "  13256118816: TensorSpec(shape=(), dtype=tf.resource, name=None)\n",
      "  13256117056: TensorSpec(shape=(), dtype=tf.resource, name=None)\n",
      "  13256122688: TensorSpec(shape=(), dtype=tf.resource, name=None)\n",
      "  13256117232: TensorSpec(shape=(), dtype=tf.resource, name=None)\n",
      "  13256120048: TensorSpec(shape=(), dtype=tf.resource, name=None)\n",
      "  13256125328: TensorSpec(shape=(), dtype=tf.resource, name=None)\n",
      "  13256126384: TensorSpec(shape=(), dtype=tf.resource, name=None)\n",
      "  13256118288: TensorSpec(shape=(), dtype=tf.resource, name=None)\n",
      "  13256130256: TensorSpec(shape=(), dtype=tf.resource, name=None)\n",
      "  13256124800: TensorSpec(shape=(), dtype=tf.resource, name=None)\n",
      "  13256127616: TensorSpec(shape=(), dtype=tf.resource, name=None)\n",
      "  13256128144: TensorSpec(shape=(), dtype=tf.resource, name=None)\n",
      "  13256233856: TensorSpec(shape=(), dtype=tf.resource, name=None)\n",
      "  13256229984: TensorSpec(shape=(), dtype=tf.resource, name=None)\n",
      "  13256237728: TensorSpec(shape=(), dtype=tf.resource, name=None)\n",
      "  13256232272: TensorSpec(shape=(), dtype=tf.resource, name=None)\n",
      "  13256235088: TensorSpec(shape=(), dtype=tf.resource, name=None)\n",
      "  13256240368: TensorSpec(shape=(), dtype=tf.resource, name=None)\n",
      "  13256241424: TensorSpec(shape=(), dtype=tf.resource, name=None)\n",
      "  13256233328: TensorSpec(shape=(), dtype=tf.resource, name=None)\n",
      "  13256240896: TensorSpec(shape=(), dtype=tf.resource, name=None)\n",
      "  13256244416: TensorSpec(shape=(), dtype=tf.resource, name=None)\n",
      "  13256244768: TensorSpec(shape=(), dtype=tf.resource, name=None)\n",
      "  13256313664: TensorSpec(shape=(), dtype=tf.resource, name=None)\n",
      "  13256314720: TensorSpec(shape=(), dtype=tf.resource, name=None)\n",
      "  13256312960: TensorSpec(shape=(), dtype=tf.resource, name=None)\n",
      "  13256318592: TensorSpec(shape=(), dtype=tf.resource, name=None)\n",
      "  13256313136: TensorSpec(shape=(), dtype=tf.resource, name=None)\n",
      "  13256315952: TensorSpec(shape=(), dtype=tf.resource, name=None)\n",
      "  13256322640: TensorSpec(shape=(), dtype=tf.resource, name=None)\n",
      "  13256323696: TensorSpec(shape=(), dtype=tf.resource, name=None)\n",
      "  13256324224: TensorSpec(shape=(), dtype=tf.resource, name=None)\n",
      "  13256323168: TensorSpec(shape=(), dtype=tf.resource, name=None)\n",
      "  13256325456: TensorSpec(shape=(), dtype=tf.resource, name=None)\n",
      "  13256326160: TensorSpec(shape=(), dtype=tf.resource, name=None)\n",
      "  13256412320: TensorSpec(shape=(), dtype=tf.resource, name=None)\n",
      "  13256413376: TensorSpec(shape=(), dtype=tf.resource, name=None)\n",
      "  13256411616: TensorSpec(shape=(), dtype=tf.resource, name=None)\n",
      "  13256417248: TensorSpec(shape=(), dtype=tf.resource, name=None)\n",
      "  13256411792: TensorSpec(shape=(), dtype=tf.resource, name=None)\n",
      "  13256414608: TensorSpec(shape=(), dtype=tf.resource, name=None)\n",
      "  13256419888: TensorSpec(shape=(), dtype=tf.resource, name=None)\n",
      "  13256420944: TensorSpec(shape=(), dtype=tf.resource, name=None)\n",
      "  13256412848: TensorSpec(shape=(), dtype=tf.resource, name=None)\n",
      "  13256424816: TensorSpec(shape=(), dtype=tf.resource, name=None)\n",
      "  13256419360: TensorSpec(shape=(), dtype=tf.resource, name=None)\n",
      "  13256422176: TensorSpec(shape=(), dtype=tf.resource, name=None)\n",
      "  13256422704: TensorSpec(shape=(), dtype=tf.resource, name=None)\n",
      "  13256544800: TensorSpec(shape=(), dtype=tf.resource, name=None)\n",
      "  13256540928: TensorSpec(shape=(), dtype=tf.resource, name=None)\n",
      "  13256548672: TensorSpec(shape=(), dtype=tf.resource, name=None)\n",
      "  13256543216: TensorSpec(shape=(), dtype=tf.resource, name=None)\n",
      "  13256546032: TensorSpec(shape=(), dtype=tf.resource, name=None)\n",
      "  13256551312: TensorSpec(shape=(), dtype=tf.resource, name=None)\n",
      "  13256552368: TensorSpec(shape=(), dtype=tf.resource, name=None)\n",
      "  13256544272: TensorSpec(shape=(), dtype=tf.resource, name=None)\n",
      "  13256556240: TensorSpec(shape=(), dtype=tf.resource, name=None)\n",
      "  13256550784: TensorSpec(shape=(), dtype=tf.resource, name=None)\n",
      "  13256553600: TensorSpec(shape=(), dtype=tf.resource, name=None)\n",
      "  13256554128: TensorSpec(shape=(), dtype=tf.resource, name=None)\n",
      "  13256609280: TensorSpec(shape=(), dtype=tf.resource, name=None)\n",
      "  13256607520: TensorSpec(shape=(), dtype=tf.resource, name=None)\n",
      "  13256613152: TensorSpec(shape=(), dtype=tf.resource, name=None)\n",
      "  13256607696: TensorSpec(shape=(), dtype=tf.resource, name=None)\n",
      "  13256610512: TensorSpec(shape=(), dtype=tf.resource, name=None)\n",
      "  13256617200: TensorSpec(shape=(), dtype=tf.resource, name=None)\n",
      "  13256618256: TensorSpec(shape=(), dtype=tf.resource, name=None)\n",
      "  13256608752: TensorSpec(shape=(), dtype=tf.resource, name=None)\n",
      "  13256617728: TensorSpec(shape=(), dtype=tf.resource, name=None)\n",
      "  13256621248: TensorSpec(shape=(), dtype=tf.resource, name=None)\n",
      "  13256621600: TensorSpec(shape=(), dtype=tf.resource, name=None)\n",
      "  13256674112: TensorSpec(shape=(), dtype=tf.resource, name=None)\n",
      "  13256675168: TensorSpec(shape=(), dtype=tf.resource, name=None)\n",
      "  13256673408: TensorSpec(shape=(), dtype=tf.resource, name=None)\n",
      "  13256679040: TensorSpec(shape=(), dtype=tf.resource, name=None)\n",
      "  13256673584: TensorSpec(shape=(), dtype=tf.resource, name=None)\n",
      "  13256676400: TensorSpec(shape=(), dtype=tf.resource, name=None)\n",
      "  13256681680: TensorSpec(shape=(), dtype=tf.resource, name=None)\n",
      "  13256682736: TensorSpec(shape=(), dtype=tf.resource, name=None)\n",
      "  13256674640: TensorSpec(shape=(), dtype=tf.resource, name=None)\n",
      "  13256686608: TensorSpec(shape=(), dtype=tf.resource, name=None)\n",
      "  13256681152: TensorSpec(shape=(), dtype=tf.resource, name=None)\n",
      "  13256683968: TensorSpec(shape=(), dtype=tf.resource, name=None)\n",
      "  13256684496: TensorSpec(shape=(), dtype=tf.resource, name=None)\n",
      "  13256806592: TensorSpec(shape=(), dtype=tf.resource, name=None)\n",
      "  13256802720: TensorSpec(shape=(), dtype=tf.resource, name=None)\n",
      "  13256810464: TensorSpec(shape=(), dtype=tf.resource, name=None)\n",
      "  13256805008: TensorSpec(shape=(), dtype=tf.resource, name=None)\n",
      "  13256807824: TensorSpec(shape=(), dtype=tf.resource, name=None)\n",
      "  13256813104: TensorSpec(shape=(), dtype=tf.resource, name=None)\n",
      "  13256814160: TensorSpec(shape=(), dtype=tf.resource, name=None)\n",
      "  13256806064: TensorSpec(shape=(), dtype=tf.resource, name=None)\n",
      "  13256818032: TensorSpec(shape=(), dtype=tf.resource, name=None)\n",
      "  13256812576: TensorSpec(shape=(), dtype=tf.resource, name=None)\n",
      "  13256815392: TensorSpec(shape=(), dtype=tf.resource, name=None)\n",
      "  13256815920: TensorSpec(shape=(), dtype=tf.resource, name=None)\n",
      "  13256871072: TensorSpec(shape=(), dtype=tf.resource, name=None)\n",
      "  13256869312: TensorSpec(shape=(), dtype=tf.resource, name=None)\n",
      "  13256874944: TensorSpec(shape=(), dtype=tf.resource, name=None)\n",
      "  13256869488: TensorSpec(shape=(), dtype=tf.resource, name=None)\n",
      "  13256872304: TensorSpec(shape=(), dtype=tf.resource, name=None)\n",
      "  13256878992: TensorSpec(shape=(), dtype=tf.resource, name=None)\n",
      "  13256880048: TensorSpec(shape=(), dtype=tf.resource, name=None)\n",
      "  13256870544: TensorSpec(shape=(), dtype=tf.resource, name=None)\n",
      "  13256883920: TensorSpec(shape=(), dtype=tf.resource, name=None)\n",
      "  13256878464: TensorSpec(shape=(), dtype=tf.resource, name=None)\n",
      "  13256881280: TensorSpec(shape=(), dtype=tf.resource, name=None)\n",
      "  13256881808: TensorSpec(shape=(), dtype=tf.resource, name=None)\n",
      "  13256969728: TensorSpec(shape=(), dtype=tf.resource, name=None)\n",
      "  13256967968: TensorSpec(shape=(), dtype=tf.resource, name=None)\n",
      "  13256973600: TensorSpec(shape=(), dtype=tf.resource, name=None)\n",
      "  13256968144: TensorSpec(shape=(), dtype=tf.resource, name=None)\n",
      "  13256970960: TensorSpec(shape=(), dtype=tf.resource, name=None)\n",
      "  13256976240: TensorSpec(shape=(), dtype=tf.resource, name=None)\n",
      "  13256977296: TensorSpec(shape=(), dtype=tf.resource, name=None)\n",
      "  13256969200: TensorSpec(shape=(), dtype=tf.resource, name=None)\n",
      "  13256981168: TensorSpec(shape=(), dtype=tf.resource, name=None)\n",
      "  13256975712: TensorSpec(shape=(), dtype=tf.resource, name=None)\n",
      "  13256978528: TensorSpec(shape=(), dtype=tf.resource, name=None)\n",
      "  13256979056: TensorSpec(shape=(), dtype=tf.resource, name=None)\n",
      "  13257084768: TensorSpec(shape=(), dtype=tf.resource, name=None)\n",
      "  13257080896: TensorSpec(shape=(), dtype=tf.resource, name=None)\n",
      "  13257088640: TensorSpec(shape=(), dtype=tf.resource, name=None)\n",
      "  13257083184: TensorSpec(shape=(), dtype=tf.resource, name=None)\n",
      "  13257086000: TensorSpec(shape=(), dtype=tf.resource, name=None)\n",
      "  13257091280: TensorSpec(shape=(), dtype=tf.resource, name=None)\n",
      "  13257092336: TensorSpec(shape=(), dtype=tf.resource, name=None)\n",
      "  13257094800: TensorSpec(shape=(), dtype=tf.resource, name=None)\n",
      "  13257084240: TensorSpec(shape=(), dtype=tf.resource, name=None)\n",
      "  13257096208: TensorSpec(shape=(), dtype=tf.resource, name=None)\n",
      "  13257090752: TensorSpec(shape=(), dtype=tf.resource, name=None)\n",
      "  13257093568: TensorSpec(shape=(), dtype=tf.resource, name=None)\n",
      "  13261359408: TensorSpec(shape=(), dtype=tf.resource, name=None)\n",
      "  13261363104: TensorSpec(shape=(), dtype=tf.resource, name=None)\n",
      "  13261357472: TensorSpec(shape=(), dtype=tf.resource, name=None)\n",
      "  13261361872: TensorSpec(shape=(), dtype=tf.resource, name=None)\n",
      "  13261365920: TensorSpec(shape=(), dtype=tf.resource, name=None)\n",
      "  13261366976: TensorSpec(shape=(), dtype=tf.resource, name=None)\n",
      "  13261358176: TensorSpec(shape=(), dtype=tf.resource, name=None)\n",
      "  13261370848: TensorSpec(shape=(), dtype=tf.resource, name=None)\n",
      "  13261365392: TensorSpec(shape=(), dtype=tf.resource, name=None)\n",
      "  13261368208: TensorSpec(shape=(), dtype=tf.resource, name=None)\n",
      "  13261368736: TensorSpec(shape=(), dtype=tf.resource, name=None)\n",
      "  13261371728: TensorSpec(shape=(), dtype=tf.resource, name=None)\n",
      "  13261457712: TensorSpec(shape=(), dtype=tf.resource, name=None)\n",
      "  13261460528: TensorSpec(shape=(), dtype=tf.resource, name=None)\n",
      "  13261456480: TensorSpec(shape=(), dtype=tf.resource, name=None)\n",
      "  13261457888: TensorSpec(shape=(), dtype=tf.resource, name=None)\n",
      "  13240789024: TensorSpec(shape=(), dtype=tf.resource, name=None)\n",
      "  13240789552: TensorSpec(shape=(), dtype=tf.resource, name=None)\n",
      "  13240793072: TensorSpec(shape=(), dtype=tf.resource, name=None)\n",
      "  13240978064: TensorSpec(shape=(), dtype=tf.resource, name=None)\n"
     ]
    },
    {
     "name": "stderr",
     "output_type": "stream",
     "text": [
      "W0000 00:00:1733504714.043696  583186 tf_tfl_flatbuffer_helpers.cc:392] Ignored output_format.\n",
      "W0000 00:00:1733504714.043705  583186 tf_tfl_flatbuffer_helpers.cc:395] Ignored drop_control_dependency.\n",
      "2024-12-06 22:35:14.044001: I tensorflow/cc/saved_model/reader.cc:83] Reading SavedModel from: /var/folders/0v/knpldzds1fd3r2ffhv6brsrh0000gn/T/tmpht67e074\n",
      "2024-12-06 22:35:14.049352: I tensorflow/cc/saved_model/reader.cc:52] Reading meta graph with tags { serve }\n",
      "2024-12-06 22:35:14.049359: I tensorflow/cc/saved_model/reader.cc:147] Reading SavedModel debug info (if present) from: /var/folders/0v/knpldzds1fd3r2ffhv6brsrh0000gn/T/tmpht67e074\n",
      "2024-12-06 22:35:14.108366: I tensorflow/compiler/mlir/mlir_graph_optimization_pass.cc:388] MLIR V1 optimization pass is not enabled\n",
      "2024-12-06 22:35:14.120293: I tensorflow/cc/saved_model/loader.cc:236] Restoring SavedModel bundle.\n",
      "2024-12-06 22:35:14.579619: I tensorflow/cc/saved_model/loader.cc:220] Running initialization op on SavedModel bundle at path: /var/folders/0v/knpldzds1fd3r2ffhv6brsrh0000gn/T/tmpht67e074\n",
      "2024-12-06 22:35:14.703505: I tensorflow/cc/saved_model/loader.cc:462] SavedModel load for tags { serve }; Status: success: OK. Took 659506 microseconds.\n"
     ]
    }
   ],
   "source": [
    "# Convert the model.\n",
    "converter = tf.lite.TFLiteConverter.from_keras_model(model)\n",
    "tflite_model = converter.convert()\n",
    "\n",
    "# Save the model.\n",
    "with open('sea-creature-model.tflite', 'wb') as f:\n",
    "  f.write(tflite_model)"
   ]
  },
  {
   "cell_type": "code",
   "execution_count": 12,
   "metadata": {},
   "outputs": [
    {
     "name": "stdout",
     "output_type": "stream",
     "text": [
      "Pipfile                    requirements.txt\n",
      "Pipfile.lock               sea-creature-model.tflite\n",
      "README.md                  tenserflow.ipynb\n",
      "\u001b[34mdata\u001b[m\u001b[m                       xception_v1_07_0.747.keras\n",
      "model_v1.weights.h5        xception_v2_10_0.852.keras\n",
      "notebook.ipynb             xception_v2_27_0.854.keras\n"
     ]
    }
   ],
   "source": [
    "!ls"
   ]
  },
  {
   "cell_type": "markdown",
   "metadata": {},
   "source": [
    "## Remove TF dependency"
   ]
  },
  {
   "cell_type": "code",
   "execution_count": 16,
   "metadata": {},
   "outputs": [
    {
     "name": "stdout",
     "output_type": "stream",
     "text": [
      "Looking in indexes: https://pypi.org/simple, https://google-coral.github.io/py-repo/\n",
      "Collecting tflite-runtime\n",
      "  Downloading https://github.com/google-coral/pycoral/releases/download/v2.0.0/tflite_runtime-2.5.0.post1-cp310-cp310-macosx_12_0_arm64.whl (1.2 MB)\n",
      "\u001b[2K     \u001b[90m━━━━━━━━━━━━━━━━━━━━━━━━━━━━━━━━━━━━━━━━\u001b[0m \u001b[32m1.2/1.2 MB\u001b[0m \u001b[31m2.4 MB/s\u001b[0m eta \u001b[36m0:00:00\u001b[0ma \u001b[36m0:00:01\u001b[0m\n",
      "\u001b[?25hRequirement already satisfied: numpy>=1.16.0 in /Users/senalidilumika/.local/share/virtualenvs/sea_creatures_classification-UVuXybmS/lib/python3.10/site-packages (from tflite-runtime) (1.23.5)\n",
      "Installing collected packages: tflite-runtime\n",
      "Successfully installed tflite-runtime-2.5.0.post1\n"
     ]
    }
   ],
   "source": [
    "!pip install --extra-index-url https://google-coral.github.io/py-repo/ tflite-runtime"
   ]
  },
  {
   "cell_type": "code",
   "execution_count": null,
   "metadata": {},
   "outputs": [],
   "source": [
    "import tflite_runtime.interpreter as tflite\n",
    "from PIL import Image"
   ]
  },
  {
   "cell_type": "code",
   "execution_count": 23,
   "metadata": {},
   "outputs": [],
   "source": [
    "with Image.open(fullname) as img:\n",
    "  img = img.resize((299,299), Image.NEAREST)"
   ]
  },
  {
   "cell_type": "code",
   "execution_count": 24,
   "metadata": {},
   "outputs": [],
   "source": [
    "def preprocess_input(x):\n",
    "  x /= 127.5\n",
    "  x -= 1.\n",
    "  return x"
   ]
  },
  {
   "cell_type": "code",
   "execution_count": 25,
   "metadata": {},
   "outputs": [],
   "source": [
    "x = np.array(img, dtype='float32')\n",
    "X = np.array([x])\n",
    "\n",
    "X = preprocess_input(X)"
   ]
  },
  {
   "cell_type": "code",
   "execution_count": 26,
   "metadata": {},
   "outputs": [],
   "source": [
    "interpreter = tflite.Interpreter(model_path='sea-creature-model.tflite')\n",
    "interpreter.allocate_tensors()\n",
    "\n",
    "input_index = interpreter.get_input_details()[0]['index']\n",
    "output_index = interpreter.get_output_details()[0]['index']"
   ]
  },
  {
   "cell_type": "code",
   "execution_count": 27,
   "metadata": {},
   "outputs": [],
   "source": [
    "interpreter.set_tensor(input_index, X)\n",
    "interpreter.invoke()\n",
    "preds = interpreter.get_tensor(output_index)"
   ]
  },
  {
   "cell_type": "code",
   "execution_count": 28,
   "metadata": {},
   "outputs": [],
   "source": [
    "classes = [\n",
    "    'Clams',\n",
    "    'Corals',\n",
    "    'Crabs',\n",
    "    'Dolphin',\n",
    "    'Eel',\n",
    "    'Fish',\n",
    "    'Jelly Fish',\n",
    "    'Lobster',\n",
    "    'Nudibranchs',\n",
    "    'Octopus',\n",
    "    'Otter',\n",
    "    'Penguin',\n",
    "    'Puffers',\n",
    "    'Seahorse',\n",
    "    'Sea Rays',\n",
    "    'Sea Urchins',\n",
    "    'Seal',\n",
    "    'Sharks',\n",
    "    'Shrimp',\n",
    "    'Squid',\n",
    "    'Starfish',\n",
    "    'Turtle_Tortoise',\n",
    "    'Whale'\n",
    "]"
   ]
  },
  {
   "cell_type": "code",
   "execution_count": null,
   "metadata": {},
   "outputs": [
    {
     "data": {
      "text/plain": [
       "{'Clams': np.float32(5.2768817),\n",
       " 'Corals': np.float32(2.831375),\n",
       " 'Crabs': np.float32(-5.9667444),\n",
       " 'Dolphin': np.float32(-4.4443774),\n",
       " 'Eel': np.float32(-1.3178099),\n",
       " 'Fish': np.float32(-1.4545499),\n",
       " 'Jelly Fish': np.float32(-2.766472),\n",
       " 'Lobster': np.float32(1.823356),\n",
       " 'Nudibranchs': np.float32(-1.7834287),\n",
       " 'Octopus': np.float32(0.093307145),\n",
       " 'Otter': np.float32(-4.178796),\n",
       " 'Penguin': np.float32(-4.4255123),\n",
       " 'Puffers': np.float32(-0.94791573),\n",
       " 'Seahorse': np.float32(3.0982525),\n",
       " 'Sea Rays': np.float32(-0.5382905),\n",
       " 'Sea Urchins': np.float32(-3.9834547),\n",
       " 'Seal': np.float32(-5.383499),\n",
       " 'Sharks': np.float32(-2.9746158),\n",
       " 'Shrimp': np.float32(-1.5158027),\n",
       " 'Squid': np.float32(-0.4403369),\n",
       " 'Starfish': np.float32(-4.7617145),\n",
       " 'Turtle_Tortoise': np.float32(-3.1611476),\n",
       " 'Whale': np.float32(-6.208831)}"
      ]
     },
     "execution_count": 155,
     "metadata": {},
     "output_type": "execute_result"
    }
   ],
   "source": [
    "dict(zip(classes, pred[0]))"
   ]
  }
 ],
 "metadata": {
  "kernelspec": {
   "display_name": "sea_creatures_classification-UVuXybmS",
   "language": "python",
   "name": "python3"
  },
  "language_info": {
   "codemirror_mode": {
    "name": "ipython",
    "version": 3
   },
   "file_extension": ".py",
   "mimetype": "text/x-python",
   "name": "python",
   "nbconvert_exporter": "python",
   "pygments_lexer": "ipython3",
   "version": "3.10.13"
  }
 },
 "nbformat": 4,
 "nbformat_minor": 2
}
